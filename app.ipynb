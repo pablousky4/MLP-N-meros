{
 "cells": [
  {
   "cell_type": "code",
   "execution_count": 6,
   "id": "b32d3824",
   "metadata": {},
   "outputs": [
    {
     "name": "stdout",
     "output_type": "stream",
     "text": [
      "\n",
      "\u001b[1m[\u001b[0m\u001b[34;49mnotice\u001b[0m\u001b[1;39;49m]\u001b[0m\u001b[39;49m A new release of pip is available: \u001b[0m\u001b[31;49m25.1.1\u001b[0m\u001b[39;49m -> \u001b[0m\u001b[32;49m25.2\u001b[0m\n",
      "\u001b[1m[\u001b[0m\u001b[34;49mnotice\u001b[0m\u001b[1;39;49m]\u001b[0m\u001b[39;49m To update, run: \u001b[0m\u001b[32;49mpython -m pip install --upgrade pip\u001b[0m\n",
      "Note: you may need to restart the kernel to use updated packages.\n"
     ]
    }
   ],
   "source": [
    "%pip install -q streamlit tensorflow pillow firebase-admin numpy"
   ]
  },
  {
   "cell_type": "code",
   "execution_count": 7,
   "id": "465525df",
   "metadata": {},
   "outputs": [
    {
     "name": "stderr",
     "output_type": "stream",
     "text": [
      "2025-09-30 09:30:46.471277: E external/local_xla/xla/stream_executor/cuda/cuda_platform.cc:51] failed call to cuInit: INTERNAL: CUDA error: Failed call to cuInit: UNKNOWN ERROR (303)\n",
      "WARNING:absl:Compiled the loaded model, but the compiled metrics have yet to be built. `model.compile_metrics` will be empty until you train or evaluate the model.\n",
      "2025-09-30 09:30:46.580 WARNING streamlit.runtime.scriptrunner_utils.script_run_context: Thread 'MainThread': missing ScriptRunContext! This warning can be ignored when running in bare mode.\n",
      "2025-09-30 09:30:46.778 \n",
      "  \u001b[33m\u001b[1mWarning:\u001b[0m to view this Streamlit app on a browser, run it with the following\n",
      "  command:\n",
      "\n",
      "    streamlit run /home/codespace/.local/lib/python3.12/site-packages/ipykernel_launcher.py [ARGUMENTS]\n",
      "2025-09-30 09:30:46.779 Thread 'MainThread': missing ScriptRunContext! This warning can be ignored when running in bare mode.\n",
      "2025-09-30 09:30:46.779 Thread 'MainThread': missing ScriptRunContext! This warning can be ignored when running in bare mode.\n",
      "2025-09-30 09:30:46.780 Thread 'MainThread': missing ScriptRunContext! This warning can be ignored when running in bare mode.\n",
      "2025-09-30 09:30:46.781 Thread 'MainThread': missing ScriptRunContext! This warning can be ignored when running in bare mode.\n",
      "2025-09-30 09:30:46.782 Thread 'MainThread': missing ScriptRunContext! This warning can be ignored when running in bare mode.\n",
      "2025-09-30 09:30:46.782 Thread 'MainThread': missing ScriptRunContext! This warning can be ignored when running in bare mode.\n",
      "2025-09-30 09:30:46.783 Thread 'MainThread': missing ScriptRunContext! This warning can be ignored when running in bare mode.\n",
      "2025-09-30 09:30:46.783 Thread 'MainThread': missing ScriptRunContext! This warning can be ignored when running in bare mode.\n",
      "2025-09-30 09:30:46.784 Thread 'MainThread': missing ScriptRunContext! This warning can be ignored when running in bare mode.\n",
      "2025-09-30 09:30:46.785 Thread 'MainThread': missing ScriptRunContext! This warning can be ignored when running in bare mode.\n",
      "2025-09-30 09:30:46.785 Thread 'MainThread': missing ScriptRunContext! This warning can be ignored when running in bare mode.\n"
     ]
    }
   ],
   "source": [
    "import streamlit as st\n",
    "import tensorflow as tf\n",
    "import numpy as np\n",
    "from PIL import Image\n",
    "\n",
    "# -----------------------------\n",
    "# Cargar modelo entrenado\n",
    "# -----------------------------\n",
    "# Asegúrate de haber guardado tu modelo con:\n",
    "# model.save(\"mlp_mnist.h5\")\n",
    "model = tf.keras.models.load_model(\"model.h5\")\n",
    "\n",
    "st.title(\"🔢 Clasificador de Números MNIST\")\n",
    "st.write(\"Sube una imagen de un número escrito a mano (0-9) y la IA intentará reconocerlo.\")\n",
    "\n",
    "# -----------------------------\n",
    "# Subida de imagen\n",
    "# -----------------------------\n",
    "uploaded_file = st.file_uploader(\"📤 Sube una imagen\", type=[\"png\", \"jpg\", \"jpeg\"])\n",
    "\n",
    "if uploaded_file is not None:\n",
    "    # Mostrar la imagen original\n",
    "    image = Image.open(uploaded_file).convert(\"L\")  # Escala de grises\n",
    "    st.image(image, caption=\"Imagen subida\", width=150)\n",
    "\n",
    "    # -----------------------------\n",
    "    # Preprocesamiento\n",
    "    # -----------------------------\n",
    "    img_resized = image.resize((28, 28))  # Redimensionar a 28x28\n",
    "    img_array = np.array(img_resized)\n",
    "\n",
    "    # Invertir colores si está en blanco sobre negro\n",
    "    if np.mean(img_array) > 127:\n",
    "        img_array = 255 - img_array\n",
    "\n",
    "    img_array = img_array / 255.0          # Normalizar a [0,1]\n",
    "    img_array = img_array.reshape(1, 28, 28)\n",
    "\n",
    "    # -----------------------------\n",
    "    # Predicción\n",
    "    # -----------------------------\n",
    "    pred = model.predict(img_array)\n",
    "    predicted_digit = np.argmax(pred)\n",
    "\n",
    "    st.subheader(f\"✅ Predicción: **{predicted_digit}**\")\n"
   ]
  },
  {
   "cell_type": "code",
   "execution_count": 8,
   "id": "c83bc939",
   "metadata": {},
   "outputs": [
    {
     "name": "stdout",
     "output_type": "stream",
     "text": [
      "Usage: streamlit run [OPTIONS] TARGET [ARGS]...\n",
      "Try 'streamlit run --help' for help.\n",
      "\n",
      "Error: Streamlit requires raw Python (.py) files, not .ipynb.\n",
      "For more information, please see https://docs.streamlit.io\n"
     ]
    }
   ],
   "source": [
    "!streamlit run app.ipynb --server.headless true --server.port 8501"
   ]
  }
 ],
 "metadata": {
  "kernelspec": {
   "display_name": "Python 3",
   "language": "python",
   "name": "python3"
  },
  "language_info": {
   "codemirror_mode": {
    "name": "ipython",
    "version": 3
   },
   "file_extension": ".py",
   "mimetype": "text/x-python",
   "name": "python",
   "nbconvert_exporter": "python",
   "pygments_lexer": "ipython3",
   "version": "3.12.1"
  }
 },
 "nbformat": 4,
 "nbformat_minor": 5
}
