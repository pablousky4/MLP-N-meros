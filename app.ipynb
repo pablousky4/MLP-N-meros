{
 "cells": [
  {
   "cell_type": "code",
   "execution_count": null,
   "id": "b32d3824",
   "metadata": {
    "vscode": {
     "languageId": "plaintext"
    }
   },
   "outputs": [],
   "source": [
    "!pip install streamlit tensorflow pillow firebase-admin"
   ]
  },
  {
   "cell_type": "code",
   "execution_count": null,
   "id": "9f00de4b",
   "metadata": {
    "vscode": {
     "languageId": "plaintext"
    }
   },
   "outputs": [],
   "source": [
    "import streamlit as st\n",
    "import numpy as np\n",
    "from tensorflow import keras\n",
    "from PIL import Image\n",
    "import firebase_admin\n",
    "from firebase_admin import credentials, firestore\n",
    "import datetime"
   ]
  },
  {
   "cell_type": "code",
   "execution_count": null,
   "id": "28946038",
   "metadata": {
    "vscode": {
     "languageId": "plaintext"
    }
   },
   "outputs": [],
   "source": [
    "if not firebase_admin._apps:\n",
    "    cred = credentials.Certificate(\"firebase_key.json\")  # tu clave aquí\n",
    "    firebase_admin.initialize_app(cred)\n",
    "db = firestore.client()"
   ]
  },
  {
   "cell_type": "code",
   "execution_count": null,
   "id": "da017a80",
   "metadata": {
    "vscode": {
     "languageId": "plaintext"
    }
   },
   "outputs": [],
   "source": [
    "@st.cache_resource\n",
    "def load_model():\n",
    "    return keras.models.load_model(\"model.h5\")\n",
    "\n",
    "model = load_model()"
   ]
  },
  {
   "cell_type": "code",
   "execution_count": null,
   "id": "6c6b7a3f",
   "metadata": {
    "vscode": {
     "languageId": "plaintext"
    }
   },
   "outputs": [],
   "source": [
    "def preprocess_image(img):\n",
    "    img = img.convert(\"L\").resize((28, 28))\n",
    "    img_array = np.array(img)\n",
    "    if img_array.mean() > 127:\n",
    "        img_array = 255 - img_array\n",
    "    img_array = img_array.reshape(1, 784).astype(\"float32\") / 255.0\n",
    "    return img_array\n"
   ]
  },
  {
   "cell_type": "code",
   "execution_count": null,
   "id": "78d45a50",
   "metadata": {
    "vscode": {
     "languageId": "plaintext"
    }
   },
   "outputs": [],
   "source": [
    "st.title(\"🔢 Clasificador de Dígitos con IA + Firebase\")\n",
    "st.write(\"Sube una imagen con un número escrito a mano (0-9).\")\n",
    "\n",
    "uploaded_file = st.file_uploader(\"Sube una imagen\", type=[\"png\", \"jpg\", \"jpeg\"])\n",
    "\n",
    "if uploaded_file:\n",
    "    img = Image.open(uploaded_file)\n",
    "    st.image(img, caption=\"Imagen subida\", use_column_width=True)\n",
    "\n",
    "    x_img = preprocess_image(img)\n",
    "    prediction = model.predict(x_img)\n",
    "    digit = int(np.argmax(prediction))\n",
    "\n",
    "    st.success(f\"Predicción de la IA: **{digit}**\")\n",
    "\n",
    "    doc_ref = db.collection(\"predicciones\").document()\n",
    "    doc_ref.set({\n",
    "        \"prediccion\": digit,\n",
    "        \"probabilidades\": prediction.tolist(),\n",
    "        \"fecha\": datetime.datetime.now().isoformat()\n",
    "    })\n",
    "\n",
    "    st.info(\"✅ Resultado guardado en Firebase\")\n"
   ]
  }
 ],
 "metadata": {
  "language_info": {
   "name": "python"
  }
 },
 "nbformat": 4,
 "nbformat_minor": 5
}
